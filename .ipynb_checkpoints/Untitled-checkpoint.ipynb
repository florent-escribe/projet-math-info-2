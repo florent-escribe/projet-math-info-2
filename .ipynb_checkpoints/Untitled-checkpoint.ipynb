{
 "cells": [
  {
   "cell_type": "markdown",
   "metadata": {},
   "source": [
    "schéma euler explicite ordre 1"
   ]
  },
  {
   "cell_type": "code",
   "execution_count": 18,
   "metadata": {},
   "outputs": [],
   "source": [
    "import matplotlib.pyplot as plt\n",
    "import numpy as np"
   ]
  },
  {
   "cell_type": "code",
   "execution_count": 19,
   "metadata": {},
   "outputs": [],
   "source": [
    "def f(t,x):\n",
    "    return x"
   ]
  },
  {
   "cell_type": "code",
   "execution_count": 20,
   "metadata": {},
   "outputs": [],
   "source": [
    "def solve_euler_explicit(f,x0,dt):\n",
    "    x=[x0]\n",
    "    t=[0]\n",
    "    for i in range (1000):\n",
    "        t.append(t[i]+dt)\n",
    "        x.append(x[i]+dt*f(t[i],x[i]))\n",
    "    return t,x\n",
    "\n"
   ]
  },
  {
   "cell_type": "code",
   "execution_count": 21,
   "metadata": {},
   "outputs": [
    {
     "data": {
      "image/png": "[encoded data removed]",
      "text/plain": [
       "<Figure size 432x288 with 1 Axes>"
      ]
     },
     "metadata": {
      "needs_background": "light"
     },
     "output_type": "display_data"
    }
   ],
   "source": [
    "x_diff1=[]\n",
    "T=[]\n",
    "\n",
    "for dt in range (1,100):\n",
    "    t,x_euler=solve_euler_explicit(f,1,dt/1000)\n",
    "    x_exp=np.exp(t)\n",
    "    x_diff1.append(np.abs(x_euler[-1] - x_exp[-1]))\n",
    "    T.append(dt/1000)\n",
    "\n",
    "#plt.plot(t,x_euler)\n",
    "#plt.plot(t,x_exp,color='red')\n",
    "#plt.plot(T,x_diff1,color='green')\n",
    "#plt.show()\n",
    "\n",
    "t,x_euler=solve_euler_explicit(f,1,0.03)\n",
    "x_exp=np.exp(t)\n",
    "\n",
    "plt.plot(t,x_euler)\n",
    "plt.plot(t,x_exp,color='red')\n",
    "plt.show()"
   ]
  },
  {
   "cell_type": "markdown",
   "metadata": {},
   "source": [
    "ça marche pour dt<0.01\n",
    "l'écart à la réaltité est fonction exponentielle de dt."
   ]
  },
  {
   "cell_type": "markdown",
   "metadata": {},
   "source": [
    "schéma ordre 2"
   ]
  },
  {
   "cell_type": "code",
   "execution_count": 22,
   "metadata": {},
   "outputs": [],
   "source": [
    "def heun_ordre_2 (f,x0,dt):\n",
    "    x=[x0]\n",
    "    t=[0]\n",
    "    for i in range (1000):\n",
    "        t.append(t[i]+dt)\n",
    "        x.append(x[i] + 0.5*dt* (f(t[i],x[i]) + f(t[i+1],x[i]+dt*f(t[i],x[i]))))\n",
    "    return t,x"
   ]
  },
  {
   "cell_type": "code",
   "execution_count": 25,
   "metadata": {},
   "outputs": [
    {
     "data": {
      "image/png": "[encoded data removed]",
      "text/plain": [
       "<Figure size 432x288 with 1 Axes>"
      ]
     },
     "metadata": {
      "needs_background": "light"
     },
     "output_type": "display_data"
    }
   ],
   "source": [
    "#x_diff2=[]\n",
    "#T=[]\n",
    "\n",
    "for dt in range (1,100):\n",
    "    t,x_heun=heun_ordre_2(f,1,dt/1000)\n",
    "    x_exp=np.exp(t)\n",
    "    x_diff2.append(np.abs(x_heun[-1] - x_exp[-1]))\n",
    "    T.append(dt/1000)\n",
    "\n",
    "#plt.plot(t,x_euler)\n",
    "#plt.plot(t,x_exp,color='red')\n",
    "#plt.plot(T,x_diff2,color='green')\n",
    "dif = [x_diff1[i]-x_diff2[i] for i in range(len(x_diff1))]\n",
    "\n",
    "plt.plot(T,dif)\n",
    "plt.title('Différence des deux méthodes')\n",
    "plt.show()\n",
    "\n",
    "\n",
    "\n",
    "\n",
    "#t,x_heun=heun_ordre_2(f,1,.2)\n",
    "#x_exp=np.exp(t)\n",
    "\n",
    "#plt.plot(t,x_heun)\n",
    "#plt.plot(t,x_exp,color='red')\n",
    "#plt.show()\n"
   ]
  },
  {
   "cell_type": "markdown",
   "metadata": {},
   "source": [
    "On note :  $e^{j+1} = \\left(  x^{j} + \\int_{t_j}^{t_{j+1}} f(s,x(s)) ds - x^{j+1} \\right) $ \\\n",
    "On veut montrer que $ \\left\\| e^{j+1} \\right\\| =\\Delta t_{j}  \\frac{\\left\\|f(t_{j+1}, x^{j+1})-f(t_{j},  x^{j})\\right\\|}{2}\\ + O(\\Delta t_{j}^{3}) $ \\\n",
    "Tout d'abord, exprimons l'intégrale. \\\n",
    "Notons $F : t \\mapsto f(t,x(t))$ \\\n",
    "On a $F(t_j + \\alpha) = F(t_j) + \\alpha F'(t_j) + O(\\alpha^2)$. En le mettans dans l'intégrale :\\\n",
    "$\\int_{t_j}^{t_{j+1}} f(s,x(s)) ds = \\Delta t_{j}F(t_j) + \\frac{\\Delta t_{j}^2}{2}[F'(t_j)] + O(\\Delta t_{j}^3)$\\\n",
    "Or en détaillant l'expression de $x^{j+1}$ : $x^{j+1} = x^j + \\Delta t_{j}f(t_j,x^{j}) = x^j + \\Delta t_{j}F(t_j)$ avec $x(t_j) = x^j$ on obtient :\\\n",
    "$e^{j+1} = \\frac{\\Delta t_{j}^2}{2}[F'(t_j)]$. De plus, $F(t_{j+1}) = F(t_j) + \\Delta t_{j}F'(t_j) +O(\\Delta t_{j}^{2})$ \\\n",
    "$ e^{j+1} =\\Delta t_{j}  \\frac{F(t_{j+1})-F(t_{j})}{2}\\ + O(\\Delta t_{j}^{3}) $ et donc \\\n",
    "$\\boxed{\\left\\| e^{j+1} \\right\\| =\\Delta t_{j}  \\frac{\\left\\|f(t_{j+1}, x^{j+1})-f(t_{j},  x^{j})\\right\\|}{2}\\ + O(\\Delta t_{j}^{3})}$ "
   ]
  },
  {
   "cell_type": "markdown",
   "metadata": {},
   "source": [
    "On avait $e^{j+1} = \\frac{\\Delta t_{j}^2}{2}[F'(t_j)]= O(\\Delta t_{j}^2)$"
   ]
  }
 ],
 "metadata": {
  "kernelspec": {
   "display_name": "Python 3",
   "language": "python",
   "name": "python3"
  },
  "language_info": {
   "codemirror_mode": {
    "name": "ipython",
    "version": 3
   },
   "file_extension": ".py",
   "mimetype": "text/x-python",
   "name": "python",
   "nbconvert_exporter": "python",
   "pygments_lexer": "ipython3",
   "version": "3.7.3"
  }
 },
 "nbformat": 4,
 "nbformat_minor": 2
}
